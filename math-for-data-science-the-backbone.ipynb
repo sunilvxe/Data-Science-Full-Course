{
 "cells": [
  {
   "cell_type": "markdown",
   "id": "574d4ab5",
   "metadata": {
    "papermill": {
     "duration": 0.00904,
     "end_time": "2025-01-06T06:09:06.771727",
     "exception": false,
     "start_time": "2025-01-06T06:09:06.762687",
     "status": "completed"
    },
    "tags": []
   },
   "source": [
    "### **1. Arithmetic and Basic Operations**\n",
    "- **Concepts**: Addition, subtraction, multiplication, division, modulus, exponentiation.\n",
    "- **Code**:"
   ]
  },
  {
   "cell_type": "code",
   "execution_count": 1,
   "id": "275f47bc",
   "metadata": {
    "execution": {
     "iopub.execute_input": "2025-01-06T06:09:06.789522Z",
     "iopub.status.busy": "2025-01-06T06:09:06.789151Z",
     "iopub.status.idle": "2025-01-06T06:09:06.794613Z",
     "shell.execute_reply": "2025-01-06T06:09:06.793780Z"
    },
    "papermill": {
     "duration": 0.015758,
     "end_time": "2025-01-06T06:09:06.795925",
     "exception": false,
     "start_time": "2025-01-06T06:09:06.780167",
     "status": "completed"
    },
    "tags": []
   },
   "outputs": [],
   "source": [
    "# Basic operations\n",
    "a, b = 15, 7\n",
    "add = a + b  # Addition\n",
    "sub = a - b  # Subtraction\n",
    "mul = a * b  # Multiplication\n",
    "div = a / b  # Division\n",
    "mod = a % b  # Modulus\n",
    "exp = a ** b  # Exponentiation\n"
   ]
  },
  {
   "cell_type": "markdown",
   "id": "14ce9034",
   "metadata": {
    "papermill": {
     "duration": 0.00785,
     "end_time": "2025-01-06T06:09:06.812033",
     "exception": false,
     "start_time": "2025-01-06T06:09:06.804183",
     "status": "completed"
    },
    "tags": []
   },
   "source": [
    "### **2. Algebra**\n",
    "- **Topics**:\n",
    "  - Solving equations\n",
    "  - Matrix operations\n",
    "  - Eigenvalues and eigenvectors\n",
    "\n",
    "#### **Solving Equations**\n",
    "   **2x+3=7**"
   ]
  },
  {
   "cell_type": "code",
   "execution_count": 2,
   "id": "e561ae85",
   "metadata": {
    "execution": {
     "iopub.execute_input": "2025-01-06T06:09:06.829422Z",
     "iopub.status.busy": "2025-01-06T06:09:06.829051Z",
     "iopub.status.idle": "2025-01-06T06:09:07.666653Z",
     "shell.execute_reply": "2025-01-06T06:09:07.665412Z"
    },
    "papermill": {
     "duration": 0.848152,
     "end_time": "2025-01-06T06:09:07.668233",
     "exception": false,
     "start_time": "2025-01-06T06:09:06.820081",
     "status": "completed"
    },
    "tags": []
   },
   "outputs": [
    {
     "name": "stdout",
     "output_type": "stream",
     "text": [
      "Solution: [2]\n"
     ]
    }
   ],
   "source": [
    "from sympy import symbols, Eq, solve\n",
    "\n",
    "x = symbols('x')\n",
    "equation = Eq(2 * x + 3, 7)\n",
    "solution = solve(equation, x)\n",
    "print(f\"Solution: {solution}\")"
   ]
  },
  {
   "cell_type": "markdown",
   "id": "2791cd36",
   "metadata": {
    "papermill": {
     "duration": 0.008429,
     "end_time": "2025-01-06T06:09:07.685415",
     "exception": false,
     "start_time": "2025-01-06T06:09:07.676986",
     "status": "completed"
    },
    "tags": []
   },
   "source": [
    "#### **Quadratic Formula**: \\( ax^2 + bx + c = 0 \\)\n",
    "\n",
    "\\[\n",
    "   x = \\frac{-b \\pm \\sqrt{b^2 - 4ac}}{2a}\n",
    "   \\]"
   ]
  },
  {
   "cell_type": "code",
   "execution_count": 3,
   "id": "7417f112",
   "metadata": {
    "execution": {
     "iopub.execute_input": "2025-01-06T06:09:07.703894Z",
     "iopub.status.busy": "2025-01-06T06:09:07.703479Z",
     "iopub.status.idle": "2025-01-06T06:09:07.709477Z",
     "shell.execute_reply": "2025-01-06T06:09:07.708378Z"
    },
    "papermill": {
     "duration": 0.016723,
     "end_time": "2025-01-06T06:09:07.710978",
     "exception": false,
     "start_time": "2025-01-06T06:09:07.694255",
     "status": "completed"
    },
    "tags": []
   },
   "outputs": [
    {
     "name": "stdout",
     "output_type": "stream",
     "text": [
      "Roots: 2.0, 1.0\n"
     ]
    }
   ],
   "source": [
    "import math\n",
    "a, b, c = 1, -3, 2\n",
    "discriminant = b**2 - 4*a*c\n",
    "if discriminant >= 0:\n",
    "    x1 = (-b + math.sqrt(discriminant)) / (2*a)\n",
    "    x2 = (-b - math.sqrt(discriminant)) / (2*a)\n",
    "    print(f\"Roots: {x1}, {x2}\")"
   ]
  },
  {
   "cell_type": "markdown",
   "id": "cb0f0b0a",
   "metadata": {
    "papermill": {
     "duration": 0.008,
     "end_time": "2025-01-06T06:09:07.727626",
     "exception": false,
     "start_time": "2025-01-06T06:09:07.719626",
     "status": "completed"
    },
    "tags": []
   },
   "source": [
    "#### **Matrix Operations**"
   ]
  },
  {
   "cell_type": "code",
   "execution_count": 4,
   "id": "b4b66880",
   "metadata": {
    "execution": {
     "iopub.execute_input": "2025-01-06T06:09:07.745336Z",
     "iopub.status.busy": "2025-01-06T06:09:07.744872Z",
     "iopub.status.idle": "2025-01-06T06:09:07.755013Z",
     "shell.execute_reply": "2025-01-06T06:09:07.754089Z"
    },
    "papermill": {
     "duration": 0.020775,
     "end_time": "2025-01-06T06:09:07.756555",
     "exception": false,
     "start_time": "2025-01-06T06:09:07.735780",
     "status": "completed"
    },
    "tags": []
   },
   "outputs": [
    {
     "name": "stdout",
     "output_type": "stream",
     "text": [
      "[[ 4  6]\n",
      " [10 12]] matrix multiplication\n",
      "[[1 3]\n",
      " [2 4]] transpose\n",
      "determinant -2.0000000000000004\n"
     ]
    }
   ],
   "source": [
    "import numpy as np\n",
    "\n",
    "A = np.array([[1, 2], [3, 4]])\n",
    "B = np.array([[2, 0], [1, 3]])\n",
    "\n",
    "# Matrix multiplication\n",
    "C = np.dot(A, B)\n",
    "print(C,\"matrix multiplication\")\n",
    "\n",
    "# Transpose\n",
    "transpose = A.T\n",
    "print(transpose,'transpose')\n",
    "\n",
    "# Determinant\n",
    "determinant = np.linalg.det(A)\n",
    "print(\"determinant\",determinant)"
   ]
  },
  {
   "cell_type": "markdown",
   "id": "f1852f28",
   "metadata": {
    "papermill": {
     "duration": 0.008651,
     "end_time": "2025-01-06T06:09:07.773772",
     "exception": false,
     "start_time": "2025-01-06T06:09:07.765121",
     "status": "completed"
    },
    "tags": []
   },
   "source": [
    "\n",
    "#### **Eigenvalues and Eigenvectors**"
   ]
  },
  {
   "cell_type": "code",
   "execution_count": 5,
   "id": "223da361",
   "metadata": {
    "execution": {
     "iopub.execute_input": "2025-01-06T06:09:07.794936Z",
     "iopub.status.busy": "2025-01-06T06:09:07.794455Z",
     "iopub.status.idle": "2025-01-06T06:09:07.816659Z",
     "shell.execute_reply": "2025-01-06T06:09:07.815480Z"
    },
    "papermill": {
     "duration": 0.036033,
     "end_time": "2025-01-06T06:09:07.818249",
     "exception": false,
     "start_time": "2025-01-06T06:09:07.782216",
     "status": "completed"
    },
    "tags": []
   },
   "outputs": [
    {
     "name": "stdout",
     "output_type": "stream",
     "text": [
      "eigen value is : [3. 1.]\n",
      "eigen vector is : [[ 0.70710678  0.70710678]\n",
      " [-0.70710678  0.70710678]]\n"
     ]
    }
   ],
   "source": [
    "from numpy.linalg import eig\n",
    "\n",
    "matrix = np.array([[2, -1], [-1, 2]])\n",
    "eigenvalues, eigenvectors = eig(matrix)\n",
    "print('eigen value is :',eigenvalues)\n",
    "print('eigen vector is :',eigenvectors)"
   ]
  },
  {
   "cell_type": "markdown",
   "id": "1c9b10a4",
   "metadata": {
    "papermill": {
     "duration": 0.008119,
     "end_time": "2025-01-06T06:09:07.835074",
     "exception": false,
     "start_time": "2025-01-06T06:09:07.826955",
     "status": "completed"
    },
    "tags": []
   },
   "source": [
    "\n",
    "#### **Matrix Inverse**"
   ]
  },
  {
   "cell_type": "code",
   "execution_count": 6,
   "id": "057fba51",
   "metadata": {
    "execution": {
     "iopub.execute_input": "2025-01-06T06:09:07.852938Z",
     "iopub.status.busy": "2025-01-06T06:09:07.852626Z",
     "iopub.status.idle": "2025-01-06T06:09:07.861395Z",
     "shell.execute_reply": "2025-01-06T06:09:07.860660Z"
    },
    "papermill": {
     "duration": 0.019362,
     "end_time": "2025-01-06T06:09:07.862796",
     "exception": false,
     "start_time": "2025-01-06T06:09:07.843434",
     "status": "completed"
    },
    "tags": []
   },
   "outputs": [
    {
     "data": {
      "text/plain": [
       "array([[-2. ,  1. ],\n",
       "       [ 1.5, -0.5]])"
      ]
     },
     "execution_count": 6,
     "metadata": {},
     "output_type": "execute_result"
    }
   ],
   "source": [
    "A=[[1,2],[3,4]]\n",
    "inverse = np.linalg.inv(A)\n",
    "inverse"
   ]
  },
  {
   "cell_type": "markdown",
   "id": "890623b8",
   "metadata": {
    "papermill": {
     "duration": 0.008226,
     "end_time": "2025-01-06T06:09:07.879754",
     "exception": false,
     "start_time": "2025-01-06T06:09:07.871528",
     "status": "completed"
    },
    "tags": []
   },
   "source": [
    "### **3. Calculus**\n",
    "- **Topics**:\n",
    "  - Derivatives\n",
    "  - Integrals\n",
    "  - Partial derivatives\n",
    "  - Gradients"
   ]
  },
  {
   "cell_type": "markdown",
   "id": "b7bfee35",
   "metadata": {
    "papermill": {
     "duration": 0.008227,
     "end_time": "2025-01-06T06:09:07.896569",
     "exception": false,
     "start_time": "2025-01-06T06:09:07.888342",
     "status": "completed"
    },
    "tags": []
   },
   "source": [
    "#### **Derivatives**"
   ]
  },
  {
   "cell_type": "code",
   "execution_count": 7,
   "id": "d0e611ca",
   "metadata": {
    "execution": {
     "iopub.execute_input": "2025-01-06T06:09:07.915080Z",
     "iopub.status.busy": "2025-01-06T06:09:07.914775Z",
     "iopub.status.idle": "2025-01-06T06:09:07.929679Z",
     "shell.execute_reply": "2025-01-06T06:09:07.928861Z"
    },
    "papermill": {
     "duration": 0.026543,
     "end_time": "2025-01-06T06:09:07.931725",
     "exception": false,
     "start_time": "2025-01-06T06:09:07.905182",
     "status": "completed"
    },
    "tags": []
   },
   "outputs": [
    {
     "name": "stdout",
     "output_type": "stream",
     "text": [
      "Derivative: 3*x**2 - 10*x\n"
     ]
    }
   ],
   "source": [
    "from sympy import symbols, diff\n",
    "\n",
    "x = symbols('x')\n",
    "function = x**3 - 5*x**2 + 4\n",
    "derivative = diff(function, x)\n",
    "print(f\"Derivative: {derivative}\")"
   ]
  },
  {
   "cell_type": "markdown",
   "id": "801b88fe",
   "metadata": {
    "papermill": {
     "duration": 0.008666,
     "end_time": "2025-01-06T06:09:07.950826",
     "exception": false,
     "start_time": "2025-01-06T06:09:07.942160",
     "status": "completed"
    },
    "tags": []
   },
   "source": [
    "#### **Partial Derivatives**"
   ]
  },
  {
   "cell_type": "code",
   "execution_count": 8,
   "id": "551004f2",
   "metadata": {
    "execution": {
     "iopub.execute_input": "2025-01-06T06:09:07.969746Z",
     "iopub.status.busy": "2025-01-06T06:09:07.969416Z",
     "iopub.status.idle": "2025-01-06T06:09:07.982017Z",
     "shell.execute_reply": "2025-01-06T06:09:07.980817Z"
    },
    "papermill": {
     "duration": 0.024288,
     "end_time": "2025-01-06T06:09:07.983916",
     "exception": false,
     "start_time": "2025-01-06T06:09:07.959628",
     "status": "completed"
    },
    "tags": []
   },
   "outputs": [
    {
     "name": "stdout",
     "output_type": "stream",
     "text": [
      "2*x + 2*y\n",
      "2*x + 2*y\n"
     ]
    }
   ],
   "source": [
    "x, y = symbols('x y')\n",
    "function = x**2 + y**2 + 2*x*y\n",
    "partial_x = diff(function, x)\n",
    "partial_y = diff(function, y)\n",
    "print(partial_x)\n",
    "print(partial_y)"
   ]
  },
  {
   "cell_type": "markdown",
   "id": "86f9a346",
   "metadata": {
    "papermill": {
     "duration": 0.014584,
     "end_time": "2025-01-06T06:09:08.015097",
     "exception": false,
     "start_time": "2025-01-06T06:09:08.000513",
     "status": "completed"
    },
    "tags": []
   },
   "source": [
    "#### **Integrals**"
   ]
  },
  {
   "cell_type": "code",
   "execution_count": 9,
   "id": "f549093f",
   "metadata": {
    "execution": {
     "iopub.execute_input": "2025-01-06T06:09:08.033735Z",
     "iopub.status.busy": "2025-01-06T06:09:08.033312Z",
     "iopub.status.idle": "2025-01-06T06:09:08.078255Z",
     "shell.execute_reply": "2025-01-06T06:09:08.077357Z"
    },
    "papermill": {
     "duration": 0.05607,
     "end_time": "2025-01-06T06:09:08.079855",
     "exception": false,
     "start_time": "2025-01-06T06:09:08.023785",
     "status": "completed"
    },
    "tags": []
   },
   "outputs": [
    {
     "data": {
      "text/latex": [
       "$\\displaystyle \\frac{x^{3}}{3} + x^{2} y + x y^{2}$"
      ],
      "text/plain": [
       "x**3/3 + x**2*y + x*y**2"
      ]
     },
     "execution_count": 9,
     "metadata": {},
     "output_type": "execute_result"
    }
   ],
   "source": [
    "from sympy import integrate\n",
    "\n",
    "integral = integrate(function, x)\n",
    "integral"
   ]
  },
  {
   "cell_type": "markdown",
   "id": "ee64dc33",
   "metadata": {
    "papermill": {
     "duration": 0.008441,
     "end_time": "2025-01-06T06:09:08.097923",
     "exception": false,
     "start_time": "2025-01-06T06:09:08.089482",
     "status": "completed"
    },
    "tags": []
   },
   "source": [
    "#### **Gradients**"
   ]
  },
  {
   "cell_type": "code",
   "execution_count": 10,
   "id": "f3102deb",
   "metadata": {
    "execution": {
     "iopub.execute_input": "2025-01-06T06:09:08.116632Z",
     "iopub.status.busy": "2025-01-06T06:09:08.116182Z",
     "iopub.status.idle": "2025-01-06T06:09:08.125505Z",
     "shell.execute_reply": "2025-01-06T06:09:08.124485Z"
    },
    "papermill": {
     "duration": 0.020297,
     "end_time": "2025-01-06T06:09:08.126964",
     "exception": false,
     "start_time": "2025-01-06T06:09:08.106667",
     "status": "completed"
    },
    "tags": []
   },
   "outputs": [
    {
     "name": "stdout",
     "output_type": "stream",
     "text": [
      "Starting gradient descent...\n",
      "Iteration 1: x = 8.0, f(x) = 64.0\n",
      "Iteration 2: x = 6.4, f(x) = 40.96000000000001\n",
      "Iteration 3: x = 5.12, f(x) = 26.2144\n",
      "Iteration 4: x = 4.096, f(x) = 16.777216\n",
      "Iteration 5: x = 3.2768, f(x) = 10.73741824\n",
      "Iteration 6: x = 2.62144, f(x) = 6.871947673600001\n",
      "Iteration 7: x = 2.0971520000000003, f(x) = 4.398046511104002\n",
      "Iteration 8: x = 1.6777216000000004, f(x) = 2.8147497671065613\n",
      "Iteration 9: x = 1.3421772800000003, f(x) = 1.801439850948199\n",
      "Iteration 10: x = 1.0737418240000003, f(x) = 1.1529215046068475\n"
     ]
    }
   ],
   "source": [
    "def gradient(f, x):\n",
    "    grad = 2 * x  # Gradient of f(x) = x^2\n",
    "    return grad\n",
    "\n",
    "x_start = 10\n",
    "learning_rate = 0.1\n",
    "\n",
    "print(\"Starting gradient descent...\")\n",
    "for i in range(10):\n",
    "    grad = gradient(\"x^2\", x_start)\n",
    "    x_start -= learning_rate * grad\n",
    "    print(f\"Iteration {i + 1}: x = {x_start}, f(x) = {x_start**2}\")\n"
   ]
  },
  {
   "cell_type": "markdown",
   "id": "291ed13d",
   "metadata": {
    "papermill": {
     "duration": 0.008533,
     "end_time": "2025-01-06T06:09:08.144398",
     "exception": false,
     "start_time": "2025-01-06T06:09:08.135865",
     "status": "completed"
    },
    "tags": []
   },
   "source": [
    "### **Taylor Series Expansion**:\n",
    "   For \\( f(x) \\) around \\( x = a \\):\n",
    "   \\[\n",
    "   f(x) \\approx f(a) + f'(a)(x-a) + \\frac{f''(a)}{2!}(x-a)^2 + \\ldots\n",
    "   \\]"
   ]
  },
  {
   "cell_type": "code",
   "execution_count": 11,
   "id": "53a4cd24",
   "metadata": {
    "execution": {
     "iopub.execute_input": "2025-01-06T06:09:08.162907Z",
     "iopub.status.busy": "2025-01-06T06:09:08.162596Z",
     "iopub.status.idle": "2025-01-06T06:09:08.184654Z",
     "shell.execute_reply": "2025-01-06T06:09:08.183615Z"
    },
    "papermill": {
     "duration": 0.033121,
     "end_time": "2025-01-06T06:09:08.186207",
     "exception": false,
     "start_time": "2025-01-06T06:09:08.153086",
     "status": "completed"
    },
    "tags": []
   },
   "outputs": [
    {
     "data": {
      "text/latex": [
       "$\\displaystyle x - \\frac{x^{3}}{6} + O\\left(x^{5}\\right)$"
      ],
      "text/plain": [
       "x - x**3/6 + O(x**5)"
      ]
     },
     "execution_count": 11,
     "metadata": {},
     "output_type": "execute_result"
    }
   ],
   "source": [
    "from sympy import series,sin\n",
    "taylor_series = series(sin(x), x, 0, 5)\n",
    "taylor_series"
   ]
  },
  {
   "cell_type": "markdown",
   "id": "23cdde12",
   "metadata": {
    "papermill": {
     "duration": 0.008687,
     "end_time": "2025-01-06T06:09:08.204109",
     "exception": false,
     "start_time": "2025-01-06T06:09:08.195422",
     "status": "completed"
    },
    "tags": []
   },
   "source": [
    "### **4. Statistics**\n",
    "- **Topics**:\n",
    "  - Measures of central tendency (mean, median, mode)\n",
    "  - Measures of dispersion (variance, standard deviation)\n",
    "  - Hypothesis testing"
   ]
  },
  {
   "cell_type": "markdown",
   "id": "9ab52449",
   "metadata": {
    "papermill": {
     "duration": 0.00852,
     "end_time": "2025-01-06T06:09:08.221585",
     "exception": false,
     "start_time": "2025-01-06T06:09:08.213065",
     "status": "completed"
    },
    "tags": []
   },
   "source": [
    "#### **Central Tendency**"
   ]
  },
  {
   "cell_type": "code",
   "execution_count": 12,
   "id": "c495d6e8",
   "metadata": {
    "execution": {
     "iopub.execute_input": "2025-01-06T06:09:08.240420Z",
     "iopub.status.busy": "2025-01-06T06:09:08.240061Z",
     "iopub.status.idle": "2025-01-06T06:09:08.247709Z",
     "shell.execute_reply": "2025-01-06T06:09:08.246678Z"
    },
    "papermill": {
     "duration": 0.018705,
     "end_time": "2025-01-06T06:09:08.249176",
     "exception": false,
     "start_time": "2025-01-06T06:09:08.230471",
     "status": "completed"
    },
    "tags": []
   },
   "outputs": [
    {
     "name": "stdout",
     "output_type": "stream",
     "text": [
      "mean is : 24.0\n",
      "median is : 20.0\n"
     ]
    }
   ],
   "source": [
    "import numpy as np\n",
    "\n",
    "data = [10, 20, 20, 30, 40]\n",
    "mean = np.mean(data)\n",
    "median = np.median(data)\n",
    "print(\"mean is :\",mean)\n",
    "print(\"median is :\",median)"
   ]
  },
  {
   "cell_type": "markdown",
   "id": "f311f3b2",
   "metadata": {
    "papermill": {
     "duration": 0.008562,
     "end_time": "2025-01-06T06:09:08.266812",
     "exception": false,
     "start_time": "2025-01-06T06:09:08.258250",
     "status": "completed"
    },
    "tags": []
   },
   "source": [
    "#### **Dispersion**"
   ]
  },
  {
   "cell_type": "code",
   "execution_count": 13,
   "id": "6dfb2513",
   "metadata": {
    "execution": {
     "iopub.execute_input": "2025-01-06T06:09:08.285968Z",
     "iopub.status.busy": "2025-01-06T06:09:08.285665Z",
     "iopub.status.idle": "2025-01-06T06:09:08.291560Z",
     "shell.execute_reply": "2025-01-06T06:09:08.290588Z"
    },
    "papermill": {
     "duration": 0.017044,
     "end_time": "2025-01-06T06:09:08.293026",
     "exception": false,
     "start_time": "2025-01-06T06:09:08.275982",
     "status": "completed"
    },
    "tags": []
   },
   "outputs": [
    {
     "name": "stdout",
     "output_type": "stream",
     "text": [
      "standard deviation is : 10.198039027185569\n",
      "variance is : 104.0\n"
     ]
    }
   ],
   "source": [
    "std_dev = np.std(data)\n",
    "variance = np.var(data)\n",
    "print(\"standard deviation is :\",std_dev)\n",
    "print(\"variance is :\",variance)"
   ]
  },
  {
   "cell_type": "markdown",
   "id": "1f6a0c95",
   "metadata": {
    "papermill": {
     "duration": 0.008817,
     "end_time": "2025-01-06T06:09:08.311041",
     "exception": false,
     "start_time": "2025-01-06T06:09:08.302224",
     "status": "completed"
    },
    "tags": []
   },
   "source": [
    "#### **Hypothesis Testing**"
   ]
  },
  {
   "cell_type": "code",
   "execution_count": 14,
   "id": "27c30e16",
   "metadata": {
    "execution": {
     "iopub.execute_input": "2025-01-06T06:09:08.330596Z",
     "iopub.status.busy": "2025-01-06T06:09:08.330199Z",
     "iopub.status.idle": "2025-01-06T06:09:09.366612Z",
     "shell.execute_reply": "2025-01-06T06:09:09.365592Z"
    },
    "papermill": {
     "duration": 1.048294,
     "end_time": "2025-01-06T06:09:09.368328",
     "exception": false,
     "start_time": "2025-01-06T06:09:08.320034",
     "status": "completed"
    },
    "tags": []
   },
   "outputs": [
    {
     "name": "stdout",
     "output_type": "stream",
     "text": [
      "t_stat is  -1.414213562373096\n",
      "p_value is  0.23019964108049845\n"
     ]
    }
   ],
   "source": [
    "from scipy.stats import ttest_1samp\n",
    "\n",
    "data = [2.3, 2.7, 3.1, 2.9, 3.0]\n",
    "t_stat, p_value = ttest_1samp(data, 3)\n",
    "print(\"t_stat is \",t_stat)\n",
    "print(\"p_value is \",p_value)"
   ]
  },
  {
   "cell_type": "markdown",
   "id": "d21b19a9",
   "metadata": {
    "papermill": {
     "duration": 0.008937,
     "end_time": "2025-01-06T06:09:09.386765",
     "exception": false,
     "start_time": "2025-01-06T06:09:09.377828",
     "status": "completed"
    },
    "tags": []
   },
   "source": [
    "### **Correlation Coefficient (Pearson)**"
   ]
  },
  {
   "cell_type": "code",
   "execution_count": 15,
   "id": "8bbdc50b",
   "metadata": {
    "execution": {
     "iopub.execute_input": "2025-01-06T06:09:09.406384Z",
     "iopub.status.busy": "2025-01-06T06:09:09.405874Z",
     "iopub.status.idle": "2025-01-06T06:09:09.414373Z",
     "shell.execute_reply": "2025-01-06T06:09:09.413421Z"
    },
    "papermill": {
     "duration": 0.019898,
     "end_time": "2025-01-06T06:09:09.415848",
     "exception": false,
     "start_time": "2025-01-06T06:09:09.395950",
     "status": "completed"
    },
    "tags": []
   },
   "outputs": [
    {
     "data": {
      "text/plain": [
       "1.0"
      ]
     },
     "execution_count": 15,
     "metadata": {},
     "output_type": "execute_result"
    }
   ],
   "source": [
    "from scipy.stats import pearsonr\n",
    "x = [1, 2, 3, 4]\n",
    "y = [10, 20, 30, 40]\n",
    "correlation, _ = pearsonr(x, y)\n",
    "correlation"
   ]
  },
  {
   "cell_type": "markdown",
   "id": "cf5e58bc",
   "metadata": {
    "papermill": {
     "duration": 0.008751,
     "end_time": "2025-01-06T06:09:09.433849",
     "exception": false,
     "start_time": "2025-01-06T06:09:09.425098",
     "status": "completed"
    },
    "tags": []
   },
   "source": [
    "### **5. Probability**\n",
    "- **Topics**:\n",
    "  - Probability distributions\n",
    "  - Bayes' theorem"
   ]
  },
  {
   "cell_type": "markdown",
   "id": "7e26c9e5",
   "metadata": {
    "papermill": {
     "duration": 0.008844,
     "end_time": "2025-01-06T06:09:09.451867",
     "exception": false,
     "start_time": "2025-01-06T06:09:09.443023",
     "status": "completed"
    },
    "tags": []
   },
   "source": [
    "#### **Probability Distributions**"
   ]
  },
  {
   "cell_type": "code",
   "execution_count": 16,
   "id": "3c4779c7",
   "metadata": {
    "execution": {
     "iopub.execute_input": "2025-01-06T06:09:09.471106Z",
     "iopub.status.busy": "2025-01-06T06:09:09.470743Z",
     "iopub.status.idle": "2025-01-06T06:09:09.477227Z",
     "shell.execute_reply": "2025-01-06T06:09:09.476369Z"
    },
    "papermill": {
     "duration": 0.017731,
     "end_time": "2025-01-06T06:09:09.478603",
     "exception": false,
     "start_time": "2025-01-06T06:09:09.460872",
     "status": "completed"
    },
    "tags": []
   },
   "outputs": [
    {
     "name": "stdout",
     "output_type": "stream",
     "text": [
      "0.9750021048517795\n"
     ]
    }
   ],
   "source": [
    "from scipy.stats import norm\n",
    "\n",
    "# Normal distribution\n",
    "prob = norm.cdf(1.96)  # P(Z <= 1.96)\n",
    "print(prob)"
   ]
  },
  {
   "cell_type": "markdown",
   "id": "80a0422e",
   "metadata": {
    "papermill": {
     "duration": 0.008853,
     "end_time": "2025-01-06T06:09:09.496673",
     "exception": false,
     "start_time": "2025-01-06T06:09:09.487820",
     "status": "completed"
    },
    "tags": []
   },
   "source": [
    "#### **Bayes' Theorem**"
   ]
  },
  {
   "cell_type": "code",
   "execution_count": 17,
   "id": "611f1700",
   "metadata": {
    "execution": {
     "iopub.execute_input": "2025-01-06T06:09:09.516535Z",
     "iopub.status.busy": "2025-01-06T06:09:09.516163Z",
     "iopub.status.idle": "2025-01-06T06:09:09.521216Z",
     "shell.execute_reply": "2025-01-06T06:09:09.520149Z"
    },
    "papermill": {
     "duration": 0.016519,
     "end_time": "2025-01-06T06:09:09.522646",
     "exception": false,
     "start_time": "2025-01-06T06:09:09.506127",
     "status": "completed"
    },
    "tags": []
   },
   "outputs": [
    {
     "name": "stdout",
     "output_type": "stream",
     "text": [
      " P(A|B) is  0.5599999999999999\n"
     ]
    }
   ],
   "source": [
    "# Example: P(A|B) = P(B|A) * P(A) / P(B)\n",
    "P_A = 0.4\n",
    "P_B_given_A = 0.7\n",
    "P_B = 0.5\n",
    "P_A_given_B = (P_B_given_A * P_A) / P_B\n",
    "print(\" P(A|B) is \" ,P_A_given_B)"
   ]
  },
  {
   "cell_type": "markdown",
   "id": "8d6e812e",
   "metadata": {
    "papermill": {
     "duration": 0.009441,
     "end_time": "2025-01-06T06:09:09.541541",
     "exception": false,
     "start_time": "2025-01-06T06:09:09.532100",
     "status": "completed"
    },
    "tags": []
   },
   "source": [
    "### **6. Linear Algebra**\n",
    "- **Topics**:\n",
    "  - Linear systems\n",
    "  - Singular Value Decomposition (SVD)"
   ]
  },
  {
   "cell_type": "markdown",
   "id": "074cf3ce",
   "metadata": {
    "papermill": {
     "duration": 0.009187,
     "end_time": "2025-01-06T06:09:09.560439",
     "exception": false,
     "start_time": "2025-01-06T06:09:09.551252",
     "status": "completed"
    },
    "tags": []
   },
   "source": [
    "#### **Linear Systems**\n",
    "x=A transpose b"
   ]
  },
  {
   "cell_type": "code",
   "execution_count": 18,
   "id": "619adeb0",
   "metadata": {
    "execution": {
     "iopub.execute_input": "2025-01-06T06:09:09.580251Z",
     "iopub.status.busy": "2025-01-06T06:09:09.579875Z",
     "iopub.status.idle": "2025-01-06T06:09:09.587778Z",
     "shell.execute_reply": "2025-01-06T06:09:09.586962Z"
    },
    "papermill": {
     "duration": 0.019462,
     "end_time": "2025-01-06T06:09:09.589215",
     "exception": false,
     "start_time": "2025-01-06T06:09:09.569753",
     "status": "completed"
    },
    "tags": []
   },
   "outputs": [
    {
     "data": {
      "text/plain": [
       "array([2., 3.])"
      ]
     },
     "execution_count": 18,
     "metadata": {},
     "output_type": "execute_result"
    }
   ],
   "source": [
    "from numpy.linalg import solve\n",
    "\n",
    "A = np.array([[3, 1], [1, 2]])\n",
    "b = np.array([9, 8])\n",
    "solution = solve(A, b)#x1,x2\n",
    "solution"
   ]
  },
  {
   "cell_type": "markdown",
   "id": "416294f6",
   "metadata": {
    "papermill": {
     "duration": 0.009089,
     "end_time": "2025-01-06T06:09:09.607893",
     "exception": false,
     "start_time": "2025-01-06T06:09:09.598804",
     "status": "completed"
    },
    "tags": []
   },
   "source": [
    "#### **SVD( Singular Value Decomposition)**"
   ]
  },
  {
   "cell_type": "code",
   "execution_count": 19,
   "id": "a00331e7",
   "metadata": {
    "execution": {
     "iopub.execute_input": "2025-01-06T06:09:09.627841Z",
     "iopub.status.busy": "2025-01-06T06:09:09.627515Z",
     "iopub.status.idle": "2025-01-06T06:09:09.636231Z",
     "shell.execute_reply": "2025-01-06T06:09:09.635303Z"
    },
    "papermill": {
     "duration": 0.020522,
     "end_time": "2025-01-06T06:09:09.637853",
     "exception": false,
     "start_time": "2025-01-06T06:09:09.617331",
     "status": "completed"
    },
    "tags": []
   },
   "outputs": [
    {
     "name": "stdout",
     "output_type": "stream",
     "text": [
      "Left singular vectors is  [[-0.2298477   0.88346102  0.40824829]\n",
      " [-0.52474482  0.24078249 -0.81649658]\n",
      " [-0.81964194 -0.40189603  0.40824829]]\n",
      " Singular values is  [9.52551809 0.51430058]\n",
      "Right singular vectors is [[-0.61962948 -0.78489445]\n",
      " [-0.78489445  0.61962948]]\n"
     ]
    }
   ],
   "source": [
    "from numpy.linalg import svd\n",
    "\n",
    "matrix = np.array([[1, 2], [3, 4], [5, 6]])\n",
    "U, Sigma, V = svd(matrix)\n",
    "print(\"Left singular vectors is \",U)\n",
    "print(\" Singular values is \",Sigma)\n",
    "print(\"Right singular vectors is\",V)"
   ]
  },
  {
   "cell_type": "markdown",
   "id": "094b3341",
   "metadata": {
    "papermill": {
     "duration": 0.009067,
     "end_time": "2025-01-06T06:09:09.656751",
     "exception": false,
     "start_time": "2025-01-06T06:09:09.647684",
     "status": "completed"
    },
    "tags": []
   },
   "source": [
    "### **7. Machine Learning Mathematics**\n",
    "- **Topics**:\n",
    "  - Linear regression\n",
    "  - Gradient descent"
   ]
  },
  {
   "cell_type": "markdown",
   "id": "6590bc7e",
   "metadata": {
    "papermill": {
     "duration": 0.009278,
     "end_time": "2025-01-06T06:09:09.675410",
     "exception": false,
     "start_time": "2025-01-06T06:09:09.666132",
     "status": "completed"
    },
    "tags": []
   },
   "source": [
    "#### **Linear Regression**"
   ]
  },
  {
   "cell_type": "code",
   "execution_count": 20,
   "id": "29dde9d9",
   "metadata": {
    "execution": {
     "iopub.execute_input": "2025-01-06T06:09:09.695084Z",
     "iopub.status.busy": "2025-01-06T06:09:09.694735Z",
     "iopub.status.idle": "2025-01-06T06:09:10.037513Z",
     "shell.execute_reply": "2025-01-06T06:09:10.036570Z"
    },
    "papermill": {
     "duration": 0.354371,
     "end_time": "2025-01-06T06:09:10.039063",
     "exception": false,
     "start_time": "2025-01-06T06:09:09.684692",
     "status": "completed"
    },
    "tags": []
   },
   "outputs": [
    {
     "data": {
      "text/plain": [
       "array([4.])"
      ]
     },
     "execution_count": 20,
     "metadata": {},
     "output_type": "execute_result"
    }
   ],
   "source": [
    "from sklearn.linear_model import LinearRegression\n",
    "\n",
    "X = np.array([[1], [2], [3]])\n",
    "y = np.array([1, 2, 3])\n",
    "model = LinearRegression().fit(X, y)\n",
    "predicted = model.predict([[4]])\n",
    "predicted"
   ]
  },
  {
   "cell_type": "markdown",
   "id": "99a59991",
   "metadata": {
    "papermill": {
     "duration": 0.009279,
     "end_time": "2025-01-06T06:09:10.057958",
     "exception": false,
     "start_time": "2025-01-06T06:09:10.048679",
     "status": "completed"
    },
    "tags": []
   },
   "source": [
    "#### **Gradient Descent**"
   ]
  },
  {
   "cell_type": "markdown",
   "id": "d1bbe4b9",
   "metadata": {
    "papermill": {
     "duration": 0.009108,
     "end_time": "2025-01-06T06:09:10.076508",
     "exception": false,
     "start_time": "2025-01-06T06:09:10.067400",
     "status": "completed"
    },
    "tags": []
   },
   "source": [
    "This code implements **gradient descent** to minimize the function \\( f(x) = x^2 \\), whose gradient is \\( 2x \\).\n",
    "\n",
    "- **Initial value**: \\( x = 10 \\)  \n",
    "- **Learning rate**: 0.1 (step size for updates)  \n",
    "- **Iterations**: 100  \n",
    "\n",
    "### **Steps**:\n",
    "1. Start at \\( x = 10 \\).\n",
    "2. For each iteration, compute the gradient (\\( 2x \\)).\n",
    "3. Update \\( x \\) using \\( x = x - \\text{learning\\_rate} \\times \\text{gradient} \\).\n",
    "4. Repeat until \\( x \\) converges to the minimum.\n",
    "\n",
    "Result: \\( x \\) approaches 0, the minimum of \\( f(x) = x^2 \\)."
   ]
  },
  {
   "cell_type": "code",
   "execution_count": 21,
   "id": "ef95f759",
   "metadata": {
    "execution": {
     "iopub.execute_input": "2025-01-06T06:09:10.096542Z",
     "iopub.status.busy": "2025-01-06T06:09:10.096140Z",
     "iopub.status.idle": "2025-01-06T06:09:10.102487Z",
     "shell.execute_reply": "2025-01-06T06:09:10.101502Z"
    },
    "papermill": {
     "duration": 0.018072,
     "end_time": "2025-01-06T06:09:10.103946",
     "exception": false,
     "start_time": "2025-01-06T06:09:10.085874",
     "status": "completed"
    },
    "tags": []
   },
   "outputs": [
    {
     "data": {
      "text/plain": [
       "2.0370359763344878e-09"
      ]
     },
     "execution_count": 21,
     "metadata": {},
     "output_type": "execute_result"
    }
   ],
   "source": [
    "def gradient_descent(x_start, learning_rate, n_iterations):\n",
    "    x = x_start\n",
    "    for _ in range(n_iterations):\n",
    "        grad = 2 * x  # Example: Gradient of f(x) = x^2\n",
    "        x -= learning_rate * grad\n",
    "    return x\n",
    "\n",
    "minimum = gradient_descent(10, 0.1, 100)\n",
    "minimum"
   ]
  },
  {
   "cell_type": "markdown",
   "id": "e5b1ffd5",
   "metadata": {
    "papermill": {
     "duration": 0.009288,
     "end_time": "2025-01-06T06:09:10.123036",
     "exception": false,
     "start_time": "2025-01-06T06:09:10.113748",
     "status": "completed"
    },
    "tags": []
   },
   "source": [
    "### **8. Time Series Analysis**"
   ]
  },
  {
   "cell_type": "code",
   "execution_count": 22,
   "id": "d7d85497",
   "metadata": {
    "execution": {
     "iopub.execute_input": "2025-01-06T06:09:10.143413Z",
     "iopub.status.busy": "2025-01-06T06:09:10.143018Z",
     "iopub.status.idle": "2025-01-06T06:09:10.455086Z",
     "shell.execute_reply": "2025-01-06T06:09:10.454166Z"
    },
    "papermill": {
     "duration": 0.324172,
     "end_time": "2025-01-06T06:09:10.456763",
     "exception": false,
     "start_time": "2025-01-06T06:09:10.132591",
     "status": "completed"
    },
    "tags": []
   },
   "outputs": [
    {
     "data": {
      "text/plain": [
       "2023-01-01   -0.269060\n",
       "2023-01-02    0.261221\n",
       "2023-01-03    0.384946\n",
       "2023-01-04   -0.847480\n",
       "2023-01-05   -0.444133\n",
       "2023-01-06    0.120960\n",
       "2023-01-07   -0.869664\n",
       "2023-01-08   -1.194616\n",
       "2023-01-09    0.233178\n",
       "2023-01-10    0.408499\n",
       "Freq: D, dtype: float64"
      ]
     },
     "execution_count": 22,
     "metadata": {},
     "output_type": "execute_result"
    }
   ],
   "source": [
    "import pandas as pd\n",
    "\n",
    "dates = pd.date_range(start=\"2023-01-01\", periods=10)\n",
    "time_series = pd.Series(np.random.randn(10), index=dates)\n",
    "time_series"
   ]
  },
  {
   "cell_type": "code",
   "execution_count": 23,
   "id": "050ce0cc",
   "metadata": {
    "execution": {
     "iopub.execute_input": "2025-01-06T06:09:10.477624Z",
     "iopub.status.busy": "2025-01-06T06:09:10.477140Z",
     "iopub.status.idle": "2025-01-06T06:09:10.892356Z",
     "shell.execute_reply": "2025-01-06T06:09:10.891381Z"
    },
    "papermill": {
     "duration": 0.427234,
     "end_time": "2025-01-06T06:09:10.893901",
     "exception": false,
     "start_time": "2025-01-06T06:09:10.466667",
     "status": "completed"
    },
    "tags": []
   },
   "outputs": [
    {
     "data": {
      "text/plain": [
       "<Axes: >"
      ]
     },
     "execution_count": 23,
     "metadata": {},
     "output_type": "execute_result"
    },
    {
     "data": {
      "image/png": "[encoded data removed]",
      "text/plain": [
       "<Figure size 640x480 with 1 Axes>"
      ]
     },
     "metadata": {},
     "output_type": "display_data"
    }
   ],
   "source": [
    "time_series.plot(label='Actual', legend=True)\n",
    "pd.Series(time_series + np.random.randn(10) * 0.5, index=dates).plot(label='Predicted', legend=True)\n"
   ]
  },
  {
   "cell_type": "markdown",
   "id": "8186640f",
   "metadata": {
    "papermill": {
     "duration": 0.010474,
     "end_time": "2025-01-06T06:09:10.915167",
     "exception": false,
     "start_time": "2025-01-06T06:09:10.904693",
     "status": "completed"
    },
    "tags": []
   },
   "source": [
    "### **9. Advanced Topics**\n",
    "- Fourier Transform\n",
    "- Z-Scores"
   ]
  },
  {
   "cell_type": "markdown",
   "id": "721c58f4",
   "metadata": {
    "papermill": {
     "duration": 0.010134,
     "end_time": "2025-01-06T06:09:10.935950",
     "exception": false,
     "start_time": "2025-01-06T06:09:10.925816",
     "status": "completed"
    },
    "tags": []
   },
   "source": [
    "#### **Fourier Transform**"
   ]
  },
  {
   "cell_type": "code",
   "execution_count": 24,
   "id": "43c33cb5",
   "metadata": {
    "execution": {
     "iopub.execute_input": "2025-01-06T06:09:10.958139Z",
     "iopub.status.busy": "2025-01-06T06:09:10.957808Z",
     "iopub.status.idle": "2025-01-06T06:09:10.963894Z",
     "shell.execute_reply": "2025-01-06T06:09:10.963101Z"
    },
    "papermill": {
     "duration": 0.01882,
     "end_time": "2025-01-06T06:09:10.965166",
     "exception": false,
     "start_time": "2025-01-06T06:09:10.946346",
     "status": "completed"
    },
    "tags": []
   },
   "outputs": [
    {
     "data": {
      "text/plain": [
       "array([0.+0.j, 0.-2.j, 0.+0.j, 0.+2.j])"
      ]
     },
     "execution_count": 24,
     "metadata": {},
     "output_type": "execute_result"
    }
   ],
   "source": [
    "from numpy.fft import fft\n",
    "\n",
    "signal = [0, 1, 0, -1]\n",
    "fft_result = fft(signal)\n",
    "fft_result"
   ]
  },
  {
   "cell_type": "markdown",
   "id": "abdc8058",
   "metadata": {
    "papermill": {
     "duration": 0.010464,
     "end_time": "2025-01-06T06:09:10.986555",
     "exception": false,
     "start_time": "2025-01-06T06:09:10.976091",
     "status": "completed"
    },
    "tags": []
   },
   "source": [
    "#### **Z-Scores**"
   ]
  },
  {
   "cell_type": "code",
   "execution_count": 25,
   "id": "7c39c052",
   "metadata": {
    "execution": {
     "iopub.execute_input": "2025-01-06T06:09:11.009020Z",
     "iopub.status.busy": "2025-01-06T06:09:11.008684Z",
     "iopub.status.idle": "2025-01-06T06:09:11.015197Z",
     "shell.execute_reply": "2025-01-06T06:09:11.014343Z"
    },
    "papermill": {
     "duration": 0.019544,
     "end_time": "2025-01-06T06:09:11.016695",
     "exception": false,
     "start_time": "2025-01-06T06:09:10.997151",
     "status": "completed"
    },
    "tags": []
   },
   "outputs": [
    {
     "data": {
      "text/plain": [
       "array([-1.41421356, -0.70710678,  0.        ,  0.70710678,  1.41421356])"
      ]
     },
     "execution_count": 25,
     "metadata": {},
     "output_type": "execute_result"
    }
   ],
   "source": [
    "from scipy.stats import zscore\n",
    "z = (x - np.mean(data)) / np.std(data)\n",
    "\n",
    "data = [1, 2, 3, 4, 5]\n",
    "z_scores = zscore(data)\n",
    "z_scores"
   ]
  },
  {
   "cell_type": "code",
   "execution_count": null,
   "id": "92f175bd",
   "metadata": {
    "papermill": {
     "duration": 0.010625,
     "end_time": "2025-01-06T06:09:11.038809",
     "exception": false,
     "start_time": "2025-01-06T06:09:11.028184",
     "status": "completed"
    },
    "tags": []
   },
   "outputs": [],
   "source": []
  }
 ],
 "metadata": {
  "kaggle": {
   "accelerator": "none",
   "dataSources": [],
   "dockerImageVersionId": 30822,
   "isGpuEnabled": false,
   "isInternetEnabled": true,
   "language": "python",
   "sourceType": "notebook"
  },
  "kernelspec": {
   "display_name": "Python 3",
   "language": "python",
   "name": "python3"
  },
  "language_info": {
   "codemirror_mode": {
    "name": "ipython",
    "version": 3
   },
   "file_extension": ".py",
   "mimetype": "text/x-python",
   "name": "python",
   "nbconvert_exporter": "python",
   "pygments_lexer": "ipython3",
   "version": "3.10.12"
  },
  "papermill": {
   "default_parameters": {},
   "duration": 7.010614,
   "end_time": "2025-01-06T06:09:11.768386",
   "environment_variables": {},
   "exception": null,
   "input_path": "__notebook__.ipynb",
   "output_path": "__notebook__.ipynb",
   "parameters": {},
   "start_time": "2025-01-06T06:09:04.757772",
   "version": "2.6.0"
  }
 },
 "nbformat": 4,
 "nbformat_minor": 5
}
